{
 "cells": [
  {
   "cell_type": "markdown",
   "id": "543a6d46",
   "metadata": {},
   "source": [
    "## Implementing GPT-2\n",
    "\n",
    "![GPT-2](/home/znyd/hacking/meow-former/images/gpt_2_impl_plan.png)\n",
    "\n",
    "\n"
   ]
  },
  {
   "cell_type": "markdown",
   "id": "721b3753",
   "metadata": {},
   "source": [
    "## Data Preparation and Sampling"
   ]
  },
  {
   "cell_type": "markdown",
   "id": "396c69ee",
   "metadata": {},
   "source": [
    "### Input text -> token(word or sub-word) -> token ID(with a vocab) -> embeddings -> decoder -> post-processing -> output\n",
    "\n",
    "<div style=\"display: flex; justify-content: space-around;\">\n",
    "  <img src=\"/home/znyd/hacking/meow-former/images/text_to_embed.png\" alt=\"Image 1\" width=\"600\">\n",
    "  <img src=\"/home/znyd/hacking/meow-former/images/vocab.png\" alt=\"Image 2\" width=\"600\">\n",
    "</div>\n"
   ]
  },
  {
   "cell_type": "markdown",
   "id": "bc8e77d0",
   "metadata": {},
   "source": [
    "#### Here we are implementing a simple tokenization scheme with just separate words and punctuations."
   ]
  },
  {
   "cell_type": "code",
   "execution_count": 2,
   "id": "7afc3b67",
   "metadata": {},
   "outputs": [
    {
     "name": "stdout",
     "output_type": "stream",
     "text": [
      "20479\n",
      "I HAD always thought Jack Gisburn rather a cheap g\n"
     ]
    }
   ],
   "source": [
    "with open('the-verdict.txt', 'r', encoding='utf-8') as f:\n",
    "    loaded_txt = f.read()\n",
    "\n",
    "print(len(loaded_txt))\n",
    "print(loaded_txt[:50])"
   ]
  },
  {
   "cell_type": "code",
   "execution_count": 3,
   "id": "1610352f",
   "metadata": {},
   "outputs": [
    {
     "name": "stdout",
     "output_type": "stream",
     "text": [
      "4690\n",
      "['I', 'HAD', 'always', 'thought', 'Jack', 'Gisburn', 'rather', 'a', 'cheap', 'genius', '--', 'though', 'a', 'good', 'fellow', 'enough', '--', 'so', 'it', 'was', 'no', 'great', 'surprise', 'to', 'me', 'to', 'hear', 'that', ',', 'in']\n"
     ]
    }
   ],
   "source": [
    "import re\n",
    "\n",
    "result = re.split(r'([,.:;?_!\"()\\']|--|\\s)', loaded_txt)\n",
    "tokens = [item.strip() for item in result if item.strip()]\n",
    "print(len(tokens))\n",
    "print(tokens[:30])"
   ]
  },
  {
   "cell_type": "code",
   "execution_count": 4,
   "id": "85bdffc0",
   "metadata": {},
   "outputs": [
    {
     "name": "stdout",
     "output_type": "stream",
     "text": [
      "1130\n"
     ]
    }
   ],
   "source": [
    "unique_word = sorted(list(set(tokens)))\n",
    "vocab_size = len(unique_word)\n",
    "print(vocab_size)\n"
   ]
  },
  {
   "cell_type": "code",
   "execution_count": 5,
   "id": "a7ef7057",
   "metadata": {},
   "outputs": [
    {
     "name": "stdout",
     "output_type": "stream",
     "text": [
      "('!', 0)\n",
      "('\"', 1)\n",
      "(\"'\", 2)\n",
      "('(', 3)\n",
      "(')', 4)\n",
      "(',', 5)\n",
      "('--', 6)\n",
      "('.', 7)\n",
      "(':', 8)\n",
      "(';', 9)\n",
      "('?', 10)\n",
      "('A', 11)\n",
      "('Ah', 12)\n",
      "('Among', 13)\n",
      "('And', 14)\n",
      "('Are', 15)\n",
      "('Arrt', 16)\n",
      "('As', 17)\n",
      "('At', 18)\n",
      "('Be', 19)\n",
      "('Begin', 20)\n",
      "('Burlington', 21)\n",
      "('But', 22)\n",
      "('By', 23)\n",
      "('Carlo', 24)\n",
      "('Chicago', 25)\n",
      "('Claude', 26)\n",
      "('Come', 27)\n",
      "('Croft', 28)\n",
      "('Destroyed', 29)\n",
      "('Devonshire', 30)\n",
      "('Don', 31)\n",
      "('Dubarry', 32)\n",
      "('Emperors', 33)\n",
      "('Florence', 34)\n",
      "('For', 35)\n",
      "('Gallery', 36)\n",
      "('Gideon', 37)\n",
      "('Gisburn', 38)\n",
      "('Gisburns', 39)\n",
      "('Grafton', 40)\n",
      "('Greek', 41)\n",
      "('Grindle', 42)\n",
      "('Grindles', 43)\n",
      "('HAD', 44)\n",
      "('Had', 45)\n",
      "('Hang', 46)\n",
      "('Has', 47)\n",
      "('He', 48)\n",
      "('Her', 49)\n",
      "('Hermia', 50)\n",
      "('His', 51)\n"
     ]
    }
   ],
   "source": [
    "vocab = {token:idx for idx, token in enumerate(unique_word)}\n",
    "for idx, token in enumerate(vocab.items()):\n",
    "    print((token))\n",
    "    if idx > 50:\n",
    "        break"
   ]
  },
  {
   "cell_type": "code",
   "execution_count": 6,
   "id": "46eac01e",
   "metadata": {},
   "outputs": [],
   "source": [
    "class TokenizerV1:\n",
    "    def __init__(self, vocab):\n",
    "        self.stoi = vocab\n",
    "        self.itos = {i:s for s, i in vocab.items()} \n",
    "\n",
    "    def encode(self, txt_inp):\n",
    "        processed = re.split(r'([,.:;?_!\"()\\']|--|\\s)', txt_inp)\n",
    "        tokens = [item.strip() for item in processed if item.strip()]\n",
    "        toekn_ids = [ self.stoi[s] for s in tokens]\n",
    "        return toekn_ids\n",
    "    \n",
    "    def decode(self, token_ids):\n",
    "        tokens = \" \".join([self.itos[ids] for ids in token_ids])\n",
    "        text = re.sub(r'\\s+([,.?!\"()\\'])', r'\\1', tokens)\n",
    "        return text\n",
    "\n",
    "    \n"
   ]
  },
  {
   "cell_type": "code",
   "execution_count": 7,
   "id": "d97ef8db",
   "metadata": {},
   "outputs": [
    {
     "name": "stdout",
     "output_type": "stream",
     "text": [
      "[1, 56, 2, 850, 988, 602, 533, 746, 5, 1126, 596, 5, 1, 67, 7, 38, 851, 1108, 754, 793, 7]\n",
      "\" It' s the last he painted, you know,\" Mrs. Gisburn said with pardonable pride.\n"
     ]
    }
   ],
   "source": [
    "tokenizer_v1 = TokenizerV1(vocab)\n",
    "text = \"\"\"\"It's the last he painted, you know,\"\n",
    "Mrs. Gisburn said with pardonable pride.\"\"\"\n",
    "ids = tokenizer_v1.encode(text)\n",
    "print(ids)\n",
    "print(tokenizer_v1.decode(ids))"
   ]
  },
  {
   "cell_type": "markdown",
   "id": "72495609",
   "metadata": {},
   "source": [
    "<h3>Till now it is working great but if we use some word which is not on our vocab then it won't work</h3>"
   ]
  },
  {
   "cell_type": "code",
   "execution_count": 8,
   "id": "be4cff07",
   "metadata": {},
   "outputs": [
    {
     "ename": "KeyError",
     "evalue": "'Hello'",
     "output_type": "error",
     "traceback": [
      "\u001b[31m---------------------------------------------------------------------------\u001b[39m",
      "\u001b[31mKeyError\u001b[39m                                  Traceback (most recent call last)",
      "\u001b[36mCell\u001b[39m\u001b[36m \u001b[39m\u001b[32mIn[8]\u001b[39m\u001b[32m, line 2\u001b[39m\n\u001b[32m      1\u001b[39m \u001b[38;5;28minput\u001b[39m = \u001b[33m\"\u001b[39m\u001b[33mHello, Mrs. Gisburn\u001b[39m\u001b[33m\"\u001b[39m\n\u001b[32m----> \u001b[39m\u001b[32m2\u001b[39m token_ids = \u001b[43mtokenizer_v1\u001b[49m\u001b[43m.\u001b[49m\u001b[43mencode\u001b[49m\u001b[43m(\u001b[49m\u001b[38;5;28;43minput\u001b[39;49m\u001b[43m)\u001b[49m\n\u001b[32m      3\u001b[39m \u001b[38;5;28mprint\u001b[39m(token_ids)\n",
      "\u001b[36mCell\u001b[39m\u001b[36m \u001b[39m\u001b[32mIn[6]\u001b[39m\u001b[32m, line 9\u001b[39m, in \u001b[36mTokenizerV1.encode\u001b[39m\u001b[34m(self, txt_inp)\u001b[39m\n\u001b[32m      7\u001b[39m processed = re.split(\u001b[33mr\u001b[39m\u001b[33m'\u001b[39m\u001b[33m([,.:;?_!\u001b[39m\u001b[33m\"\u001b[39m\u001b[33m()\u001b[39m\u001b[38;5;130;01m\\'\u001b[39;00m\u001b[33m]|--|\u001b[39m\u001b[33m\\\u001b[39m\u001b[33ms)\u001b[39m\u001b[33m'\u001b[39m, txt_inp)\n\u001b[32m      8\u001b[39m tokens = [item.strip() \u001b[38;5;28;01mfor\u001b[39;00m item \u001b[38;5;129;01min\u001b[39;00m processed \u001b[38;5;28;01mif\u001b[39;00m item.strip()]\n\u001b[32m----> \u001b[39m\u001b[32m9\u001b[39m toekn_ids = [ \u001b[38;5;28;43mself\u001b[39;49m\u001b[43m.\u001b[49m\u001b[43mstoi\u001b[49m\u001b[43m[\u001b[49m\u001b[43ms\u001b[49m\u001b[43m]\u001b[49m \u001b[38;5;28;01mfor\u001b[39;00m s \u001b[38;5;129;01min\u001b[39;00m tokens]\n\u001b[32m     10\u001b[39m \u001b[38;5;28;01mreturn\u001b[39;00m toekn_ids\n",
      "\u001b[31mKeyError\u001b[39m: 'Hello'"
     ]
    }
   ],
   "source": [
    "input = \"Hello, Mrs. Gisburn\"\n",
    "token_ids = tokenizer_v1.encode(input)\n",
    "print(token_ids)"
   ]
  },
  {
   "cell_type": "markdown",
   "id": "7a8081b9",
   "metadata": {},
   "source": [
    "<h4>\n",
    "Now, we are gonna tackle this with <b><|unk|></b> token for a placeholder of unknown tokens and will use <b><|endoftext|></b>token for separating different paragraph or context\n",
    "</h4>"
   ]
  },
  {
   "cell_type": "code",
   "execution_count": 9,
   "id": "402fb4cf",
   "metadata": {},
   "outputs": [
    {
     "name": "stdout",
     "output_type": "stream",
     "text": [
      "1132\n"
     ]
    }
   ],
   "source": [
    "unique_word.append('<|endoftext|>')\n",
    "unique_word.append('<|unk|>')\n",
    "vocab = {token:integer for integer,token in enumerate(unique_word)}\n",
    "print(len(vocab.items()))"
   ]
  },
  {
   "cell_type": "code",
   "execution_count": 10,
   "id": "b5f3d006",
   "metadata": {},
   "outputs": [
    {
     "name": "stdout",
     "output_type": "stream",
     "text": [
      "('younger', 1127)\n",
      "('your', 1128)\n",
      "('yourself', 1129)\n",
      "('<|endoftext|>', 1130)\n",
      "('<|unk|>', 1131)\n"
     ]
    }
   ],
   "source": [
    "for i, item in enumerate(list(vocab.items())[-5:]):\n",
    "    print(item)"
   ]
  },
  {
   "cell_type": "code",
   "execution_count": 11,
   "id": "23e99e1d",
   "metadata": {},
   "outputs": [],
   "source": [
    "class TokenizerV2:\n",
    "    def __init__(self, vocab):\n",
    "        self.stoi = vocab\n",
    "        self.itos = {i:s for s, i in vocab.items()} \n",
    "\n",
    "    def encode(self, txt_inp):\n",
    "        processed = re.split(r'([,.:;?_!\"()\\']|--|\\s)', txt_inp)\n",
    "        tokens = [item.strip() for item in processed if item.strip()]\n",
    "        tokens = [tkn if tkn in self.stoi else \"<|unk|>\" for tkn in tokens] # Using <|unk|> for uniknown token\n",
    "        toekn_ids = [ self.stoi[s] for s in tokens]\n",
    "        return toekn_ids\n",
    "    \n",
    "    def decode(self, token_ids):\n",
    "        tokens = \" \".join([self.itos[ids] for ids in token_ids])\n",
    "        text = re.sub(r'\\s+([,.?!\"()\\'])', r'\\1', tokens)\n",
    "        return text"
   ]
  },
  {
   "cell_type": "code",
   "execution_count": 12,
   "id": "1a810f48",
   "metadata": {},
   "outputs": [
    {
     "name": "stdout",
     "output_type": "stream",
     "text": [
      "Hello, do you like tea? <|endoftext|> In the sunlit terraces of the palace.\n",
      "[1131, 5, 355, 1126, 628, 975, 10, 1130, 55, 988, 956, 984, 722, 988, 1131, 7]\n",
      "<|unk|>, do you like tea? <|endoftext|> In the sunlit terraces of the <|unk|>.\n"
     ]
    }
   ],
   "source": [
    "text1 = \"Hello, do you like tea?\"\n",
    "text2 = \"In the sunlit terraces of the palace.\"\n",
    "text = \" <|endoftext|> \".join((text1, text2))\n",
    "print(text)\n",
    "\n",
    "tokenizer_v2 = TokenizerV2(vocab)\n",
    "ids = tokenizer_v2.encode(text)\n",
    "print(ids)\n",
    "txt = tokenizer_v2.decode(ids)\n",
    "print(txt)"
   ]
  },
  {
   "cell_type": "markdown",
   "id": "b00ff31e",
   "metadata": {},
   "source": [
    "<h4>\n",
    "Though we don't know what is this unknown token is and this way of tokenization would create a huge vocab dictionary. Also we wont be able to tokenize weird words\n",
    "<br>\n",
    "<br>\n",
    "That's why we use byte pair encoding(BPE) type of tokenizer\n",
    "Now we will use it with tiktoken\n",
    "</h4>\n",
    "\n",
    "<div>\n",
    "<img src=\"/home/znyd/hacking/meow-former/images/sub_word_bpe.png\", width=\"600\">\n",
    "</div>"
   ]
  },
  {
   "cell_type": "code",
   "execution_count": 13,
   "id": "436c89d3",
   "metadata": {},
   "outputs": [],
   "source": [
    "import tiktoken\n",
    "\n",
    "tokenizer = tiktoken.get_encoding('gpt2')"
   ]
  },
  {
   "cell_type": "code",
   "execution_count": 14,
   "id": "0f9ff0a9",
   "metadata": {},
   "outputs": [
    {
     "name": "stdout",
     "output_type": "stream",
     "text": [
      "[15496, 11, 466, 345, 588, 8887, 30, 220, 50256, 554, 262, 4252, 18250, 8812, 2114, 1659, 617, 34680, 27271, 13]\n",
      "Hello, do you like tea? <|endoftext|> In the sunlit terracesof someunknownPlace.\n",
      "\n",
      "see we can even tokenize this weird word 'someunknownPlace' with BPE\n"
     ]
    }
   ],
   "source": [
    "text = (\n",
    "\"Hello, do you like tea? <|endoftext|> In the sunlit terraces\"\n",
    "\"of someunknownPlace.\"\n",
    ")\n",
    "integers = tokenizer.encode(text, allowed_special={\"<|endoftext|>\"})\n",
    "print(integers)\n",
    "strings = tokenizer.decode(integers)\n",
    "print(strings)\n",
    "print()\n",
    "print(\"see we can even tokenize this weird word 'someunknownPlace' with BPE\")"
   ]
  },
  {
   "cell_type": "markdown",
   "id": "06cea63a",
   "metadata": {},
   "source": [
    "#### Create (Input-Target) token pair for training to predict the next token\n",
    "\n",
    "<div style=\"display: flex; justify-content: space-around;\">\n",
    "<img src=\"/home/znyd/hacking/meow-former/images/inp-target_pair.png\">\n",
    "<img src=\"/home/znyd/hacking/meow-former/images/sliding_window_txt-target.png\">\n",
    "</div>"
   ]
  },
  {
   "cell_type": "markdown",
   "id": "05dc560a",
   "metadata": {},
   "source": [
    "### Dataloader"
   ]
  },
  {
   "cell_type": "code",
   "execution_count": 15,
   "id": "e204a825",
   "metadata": {},
   "outputs": [],
   "source": [
    "import torch\n",
    "from torch.utils.data import DataLoader, Dataset\n",
    "\n",
    "class GPTDatasetV1(Dataset):\n",
    "    def __init__(self, txt, tokenizer, max_length, stride):\n",
    "        self.input_ids = []\n",
    "        self.target_ids = []\n",
    "\n",
    "        token_ids = tokenizer.encode(txt)\n",
    "\n",
    "        for i in range(0, len(token_ids)-max_length, stride):\n",
    "            inp_chunk = token_ids[i:i+max_length]\n",
    "            target_chunk = token_ids[i+1:i+max_length+1]\n",
    "            self.input_ids.append(torch.tensor(inp_chunk))\n",
    "            self.target_ids.append(torch.tensor(target_chunk))\n",
    "\n",
    "    def __len__(self):\n",
    "        return len(self.input_ids)\n",
    "\n",
    "    def __getitem__(self, idx):\n",
    "        return self.input_ids[idx], self.target_ids[idx]\n",
    "\n"
   ]
  },
  {
   "cell_type": "code",
   "execution_count": 16,
   "id": "abbc7a77",
   "metadata": {},
   "outputs": [],
   "source": [
    "def dataloader_v1(txt, batch_size=4, max_length=256, stride=128, shuffle=True, drop_last=True, num_workders=0):\n",
    "    tokenizer = tiktoken.get_encoding('gpt2')\n",
    "    dataset = GPTDatasetV1(txt, tokenizer, max_length, stride)\n",
    "    dataloader = DataLoader(\n",
    "        dataset,\n",
    "        batch_size=batch_size,\n",
    "        shuffle=shuffle,\n",
    "        drop_last=drop_last,\n",
    "        num_workers=num_workders\n",
    "    )\n",
    "\n",
    "    return dataloader"
   ]
  },
  {
   "cell_type": "code",
   "execution_count": 17,
   "id": "cfaf8316",
   "metadata": {},
   "outputs": [
    {
     "name": "stdout",
     "output_type": "stream",
     "text": [
      "Inputs:\n",
      " tensor([[   40,   367,  2885,  1464],\n",
      "        [ 1807,  3619,   402,   271],\n",
      "        [10899,  2138,   257,  7026],\n",
      "        [15632,   438,  2016,   257],\n",
      "        [  922,  5891,  1576,   438],\n",
      "        [  568,   340,   373,   645],\n",
      "        [ 1049,  5975,   284,   502],\n",
      "        [  284,  3285,   326,    11]])\n",
      "\n",
      "Targets:\n",
      " tensor([[  367,  2885,  1464,  1807],\n",
      "        [ 3619,   402,   271, 10899],\n",
      "        [ 2138,   257,  7026, 15632],\n",
      "        [  438,  2016,   257,   922],\n",
      "        [ 5891,  1576,   438,   568],\n",
      "        [  340,   373,   645,  1049],\n",
      "        [ 5975,   284,   502,   284],\n",
      "        [ 3285,   326,    11,   287]])\n"
     ]
    }
   ],
   "source": [
    "with open(\"the-verdict.txt\", \"r\", encoding=\"utf-8\") as f:\n",
    "    raw_text = f.read()\n",
    "\n",
    "dataloader = dataloader_v1(\n",
    "raw_text, batch_size=8, max_length=4, stride=4,\n",
    "shuffle=False\n",
    ")\n",
    "data_iter = iter(dataloader)\n",
    "inputs, targets = next(data_iter)\n",
    "print(\"Inputs:\\n\", inputs)\n",
    "print(\"\\nTargets:\\n\", targets)"
   ]
  },
  {
   "cell_type": "markdown",
   "id": "f8bb4d18",
   "metadata": {},
   "source": [
    "<h4>\n",
    "Token Embedding and Positional Embedding\n",
    "</h4>"
   ]
  },
  {
   "cell_type": "code",
   "execution_count": 18,
   "id": "f7f459f0",
   "metadata": {},
   "outputs": [
    {
     "name": "stdout",
     "output_type": "stream",
     "text": [
      "Parameter containing:\n",
      "tensor([[ 1.4069,  0.1522, -0.3106],\n",
      "        [-1.2768,  0.7557, -1.1393],\n",
      "        [-1.0281,  0.0889,  1.0486],\n",
      "        [ 0.1386, -0.0095,  0.5327],\n",
      "        [ 0.6682, -0.4070, -0.2591],\n",
      "        [ 0.7890,  0.3928, -1.2502]], requires_grad=True)\n",
      "\n",
      "Here every row represents a token and every token has 3 dimension\n"
     ]
    }
   ],
   "source": [
    "# Basic working of embedding layer\n",
    "\n",
    "input_ids = torch.tensor([2, 3, 5, 1])\n",
    "\n",
    "vocab_size = 6\n",
    "output_dim = 3\n",
    "\n",
    "embedding_layer = torch.nn.Embedding(vocab_size, output_dim)\n",
    "print(embedding_layer.weight)\n",
    "print()\n",
    "print(\"Here every row represents a token and every token has 3 dimension\")"
   ]
  },
  {
   "cell_type": "code",
   "execution_count": 19,
   "id": "6fab3818",
   "metadata": {},
   "outputs": [
    {
     "name": "stdout",
     "output_type": "stream",
     "text": [
      "Retrieving Embedding Vector for a Token\n",
      "\n",
      "tensor([[ 0.1386, -0.0095,  0.5327]], grad_fn=<EmbeddingBackward0>)\n",
      "\n",
      "tensor([[-1.0281,  0.0889,  1.0486],\n",
      "        [ 0.1386, -0.0095,  0.5327],\n",
      "        [ 0.7890,  0.3928, -1.2502],\n",
      "        [-1.2768,  0.7557, -1.1393]], grad_fn=<EmbeddingBackward0>)\n"
     ]
    }
   ],
   "source": [
    "print(\"Retrieving Embedding Vector for a Token\")\n",
    "print()\n",
    "print(embedding_layer(torch.tensor([3])))\n",
    "print()\n",
    "print(embedding_layer(input_ids))"
   ]
  },
  {
   "cell_type": "markdown",
   "id": "cc340789",
   "metadata": {},
   "source": [
    "<h5>\n",
    "\n",
    "The embedding\n",
    "layer approach described here is essentially just a more efficient way of imple-\n",
    "menting one-hot encoding followed by matrix multiplication in a fully con-\n",
    "nected layer, which is illustrated in the supplementary code on GitHub at\n",
    "https://mng.bz/ZEB5.<br> Because the embedding layer is just a more efficient\n",
    "implementation equivalent to the one-hot encoding and matrix-multiplica-\n",
    "tion approach, it can be seen as a neural network layer that can be optimized\n",
    "via backpropagation.\n",
    "</h5>"
   ]
  },
  {
   "cell_type": "markdown",
   "id": "7416a026",
   "metadata": {},
   "source": [
    "<h4>In principle, the deterministic, position-independent embedding of the token ID is\n",
    "good for reproducibility purposes. However, since the self-attention mechanism of\n",
    "LLMs itself is also position-agnostic, it is helpful to inject additional position informa-\n",
    "tion into the LLM.\n",
    "</h4>\n",
    "<div>\n",
    "<img src=\"/home/znyd/hacking/meow-former/images/positional_emb.png\">\n",
    "</div>"
   ]
  },
  {
   "cell_type": "code",
   "execution_count": 20,
   "id": "b7a77265",
   "metadata": {},
   "outputs": [],
   "source": [
    "vocab_size = 50257\n",
    "output_dim = 256\n",
    "token_embedding_layer = torch.nn.Embedding(vocab_size, output_dim)"
   ]
  },
  {
   "cell_type": "code",
   "execution_count": 21,
   "id": "9212a4fc",
   "metadata": {},
   "outputs": [
    {
     "name": "stdout",
     "output_type": "stream",
     "text": [
      "Token IDs:\n",
      " tensor([[   40,   367,  2885,  1464],\n",
      "        [ 1807,  3619,   402,   271],\n",
      "        [10899,  2138,   257,  7026],\n",
      "        [15632,   438,  2016,   257],\n",
      "        [  922,  5891,  1576,   438],\n",
      "        [  568,   340,   373,   645],\n",
      "        [ 1049,  5975,   284,   502],\n",
      "        [  284,  3285,   326,    11]])\n",
      "\n",
      "Inputs shape:\n",
      " torch.Size([8, 4])\n"
     ]
    }
   ],
   "source": [
    "dataloader = dataloader_v1(\n",
    "    raw_text,\n",
    "    batch_size=8,\n",
    "    max_length=4,\n",
    "    stride=4,\n",
    "    shuffle=False\n",
    ")\n",
    "data_iter = iter(dataloader)\n",
    "inputs, targets = next(data_iter)\n",
    "print(\"Token IDs:\\n\", inputs)\n",
    "print(\"\\nInputs shape:\\n\", inputs.shape)"
   ]
  },
  {
   "cell_type": "code",
   "execution_count": null,
   "id": "48ad7b07",
   "metadata": {},
   "outputs": [
    {
     "name": "stdout",
     "output_type": "stream",
     "text": [
      "torch.Size([8, 4, 256])\n"
     ]
    }
   ],
   "source": [
    "token_embeddings = token_embedding_layer(inputs)\n",
    "print(token_embeddings.shape)"
   ]
  },
  {
   "cell_type": "markdown",
   "id": "06913a6b",
   "metadata": {},
   "source": [
    "#### Basic sequential/static positional encoding"
   ]
  },
  {
   "cell_type": "code",
   "execution_count": 30,
   "id": "05424e7a",
   "metadata": {},
   "outputs": [
    {
     "name": "stdout",
     "output_type": "stream",
     "text": [
      "tensor([0, 1, 2, 3])\n"
     ]
    }
   ],
   "source": [
    "print(torch.arange(4))"
   ]
  },
  {
   "cell_type": "code",
   "execution_count": 29,
   "id": "c0d61808",
   "metadata": {},
   "outputs": [
    {
     "name": "stdout",
     "output_type": "stream",
     "text": [
      "torch.Size([4, 256])\n",
      "tensor([[ 0.3184, -0.9020,  0.1182,  ...,  0.7687,  0.8159,  0.4627],\n",
      "        [-1.6514,  1.0246, -1.1728,  ..., -2.3351, -0.7295,  0.3487],\n",
      "        [-0.8057, -0.3397, -0.2613,  ..., -1.1176,  1.2932,  0.7838],\n",
      "        [ 0.4690, -1.3245, -1.5091,  ...,  0.8208, -0.0506,  1.1770]],\n",
      "       grad_fn=<EmbeddingBackward0>)\n"
     ]
    }
   ],
   "source": [
    "context_length = 4 \n",
    "pos_embedding_layer = torch.nn.Embedding(context_length, output_dim)\n",
    "pos_embeddings = pos_embedding_layer(torch.arange(context_length))\n",
    "print(pos_embeddings.shape)\n",
    "print(pos_embeddings)"
   ]
  },
  {
   "cell_type": "code",
   "execution_count": 31,
   "id": "d7cce587",
   "metadata": {},
   "outputs": [
    {
     "name": "stdout",
     "output_type": "stream",
     "text": [
      "torch.Size([8, 4, 256])\n"
     ]
    }
   ],
   "source": [
    "# Finally the input embedding \n",
    "\n",
    "input_embeddings = token_embeddings + pos_embeddings\n",
    "print(input_embeddings.shape)"
   ]
  },
  {
   "cell_type": "markdown",
   "id": "eceea246",
   "metadata": {},
   "source": [
    "## Now it's time for Attentation Mechanism"
   ]
  }
 ],
 "metadata": {
  "kernelspec": {
   "display_name": "meow-former",
   "language": "python",
   "name": "python3"
  },
  "language_info": {
   "codemirror_mode": {
    "name": "ipython",
    "version": 3
   },
   "file_extension": ".py",
   "mimetype": "text/x-python",
   "name": "python",
   "nbconvert_exporter": "python",
   "pygments_lexer": "ipython3",
   "version": "3.12.3"
  }
 },
 "nbformat": 4,
 "nbformat_minor": 5
}
